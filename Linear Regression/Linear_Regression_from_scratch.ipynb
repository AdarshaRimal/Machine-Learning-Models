{
 "cells": [
  {
   "cell_type": "code",
   "execution_count": 1,
   "id": "bce33812-9765-42a8-822a-07f6fa0bf663",
   "metadata": {},
   "outputs": [],
   "source": [
    "import pandas as pd\n",
    "import numpy as np\n",
    "import matplotlib.pyplot as plt"
   ]
  },
  {
   "cell_type": "code",
   "execution_count": 2,
   "id": "7f075bbb-f60b-470a-b606-85a6aa9f9cf5",
   "metadata": {},
   "outputs": [
    {
     "data": {
      "text/html": [
       "<div>\n",
       "<style scoped>\n",
       "    .dataframe tbody tr th:only-of-type {\n",
       "        vertical-align: middle;\n",
       "    }\n",
       "\n",
       "    .dataframe tbody tr th {\n",
       "        vertical-align: top;\n",
       "    }\n",
       "\n",
       "    .dataframe thead th {\n",
       "        text-align: right;\n",
       "    }\n",
       "</style>\n",
       "<table border=\"1\" class=\"dataframe\">\n",
       "  <thead>\n",
       "    <tr style=\"text-align: right;\">\n",
       "      <th></th>\n",
       "      <th>Study Time (Hours)</th>\n",
       "      <th>Exam Score</th>\n",
       "    </tr>\n",
       "  </thead>\n",
       "  <tbody>\n",
       "    <tr>\n",
       "      <th>0</th>\n",
       "      <td>7</td>\n",
       "      <td>77</td>\n",
       "    </tr>\n",
       "    <tr>\n",
       "      <th>1</th>\n",
       "      <td>4</td>\n",
       "      <td>50</td>\n",
       "    </tr>\n",
       "    <tr>\n",
       "      <th>2</th>\n",
       "      <td>8</td>\n",
       "      <td>88</td>\n",
       "    </tr>\n",
       "    <tr>\n",
       "      <th>3</th>\n",
       "      <td>7</td>\n",
       "      <td>77</td>\n",
       "    </tr>\n",
       "    <tr>\n",
       "      <th>4</th>\n",
       "      <td>3</td>\n",
       "      <td>42</td>\n",
       "    </tr>\n",
       "  </tbody>\n",
       "</table>\n",
       "</div>"
      ],
      "text/plain": [
       "   Study Time (Hours)   Exam Score\n",
       "0                   7           77\n",
       "1                   4           50\n",
       "2                   8           88\n",
       "3                   7           77\n",
       "4                   3           42"
      ]
     },
     "execution_count": 2,
     "metadata": {},
     "output_type": "execute_result"
    }
   ],
   "source": [
    "dataset = pd.read_csv(\"exam_and_study_time.csv\") # importing dataset\n",
    "dataset.head()                                   # first 5 rows of dataset"
   ]
  },
  {
   "cell_type": "code",
   "execution_count": 3,
   "id": "6a6ab060-e0be-4643-bb6f-c68f87e2409f",
   "metadata": {},
   "outputs": [],
   "source": [
    "X = dataset[\"Study Time (Hours)\"]\n",
    "Y = dataset[\" Exam Score\"]"
   ]
  },
  {
   "cell_type": "code",
   "execution_count": 12,
   "id": "1ac2b405-5d5e-4bde-ae7f-ffeba96db3c2",
   "metadata": {},
   "outputs": [],
   "source": [
    "# lets define our gradient_descent function\n",
    "def gradient_descent(X,Y,m,b,l,epochs): # x=study time, y = exam_score, m = slope ,b = y-intercept,l=learning rate, epochs = iterations\n",
    "    for i in range(epochs):\n",
    "        # calculating predicted y value i.e y = mx+c\n",
    "        y_preds = m*X+b\n",
    "\n",
    "        #calculating mean squared error (cost)\n",
    "        cost = (1/n) * np.sum((Y-y_preds) **2)\n",
    "        # Calculate the gradients for m and b\n",
    "        md = -(2/n) * np.sum(X * (Y - y_preds))  # derivative wrt m\n",
    "        bd = -(2/n) * np.sum(Y - y_preds)        # derivative wrt b\n",
    "\n",
    "        # Update the parameters using gradient descent\n",
    "        m = m - l * md\n",
    "        b = b - l * bd\n",
    "\n",
    "    if i % 100 == 0:\n",
    "        #Print the cost every 100 iterations\n",
    "        print(f'Epoch {i}, Cost: {cost}, m: {m}, b: {b}')\n",
    "    return m,b\n",
    "\n"
   ]
  },
  {
   "cell_type": "code",
   "execution_count": 7,
   "id": "73b17401-8bb4-4e7d-8885-9f04b67ab863",
   "metadata": {},
   "outputs": [],
   "source": [
    "# Initialize parameters (slope m and intercept b)\n",
    "m = 0\n",
    "b = 0\n",
    "# Learning rate and number of iterations\n",
    "l = 0.01\n",
    "epochs = 1000\n",
    "\n",
    "# Number of data points\n",
    "n = float(len(X))"
   ]
  },
  {
   "cell_type": "code",
   "execution_count": 13,
   "id": "5fd6aeab-1143-45ea-ae19-1f287619e601",
   "metadata": {},
   "outputs": [
    {
     "name": "stdout",
     "output_type": "stream",
     "text": [
      "Final parameters: m = 9.63668555351446, b = 8.509583875987278\n"
     ]
    }
   ],
   "source": [
    "# Train the linear regression model\n",
    "m, b = gradient_descent(X, Y, m, b, l, epochs)\n",
    "print(f\"Final parameters: m = {m}, b = {b}\")"
   ]
  },
  {
   "cell_type": "code",
   "execution_count": 15,
   "id": "ddef7c71-c567-43c6-84a8-b24de251ff14",
   "metadata": {},
   "outputs": [],
   "source": [
    "y_preds = m * X + b"
   ]
  },
  {
   "cell_type": "code",
   "execution_count": 16,
   "id": "4cdb1ceb-8ed2-4e6f-b9db-4f6026af8750",
   "metadata": {},
   "outputs": [
    {
     "data": {
      "image/png": "[encoded data removed]",
      "text/plain": [
       "<Figure size 640x480 with 1 Axes>"
      ]
     },
     "metadata": {},
     "output_type": "display_data"
    }
   ],
   "source": [
    "# Plot the data points and the regression line\n",
    "plt.scatter(X, Y, color='blue', label='Data points')\n",
    "plt.plot(X, y_preds, color='red', label='Regression line')\n",
    "plt.xlabel(\"Study time\")\n",
    "plt.ylabel('Exam score')\n",
    "plt.legend()\n",
    "plt.show()"
   ]
  },
  {
   "cell_type": "code",
   "execution_count": 17,
   "id": "7f33b58f-76c0-4fe7-9ecc-cafadb6a10cf",
   "metadata": {},
   "outputs": [
    {
     "data": {
      "text/plain": [
       "114.51312496464634"
      ]
     },
     "execution_count": 17,
     "metadata": {},
     "output_type": "execute_result"
    }
   ],
   "source": [
    "#what will be the value of exam_score if student study for 11 hours\n",
    "score = m * 11 + b # 11 is study time\n",
    "score"
   ]
  },
  {
   "cell_type": "code",
   "execution_count": 18,
   "id": "09ad00e1-6385-4ab6-b489-f5c3290b88ad",
   "metadata": {},
   "outputs": [],
   "source": [
    "# it means after studying 11 hours student can score 114.513 marks"
   ]
  },
  {
   "cell_type": "code",
   "execution_count": null,
   "id": "0c1b90a7-fdcf-465f-b009-5c315a2eff0c",
   "metadata": {},
   "outputs": [],
   "source": []
  }
 ],
 "metadata": {
  "kernelspec": {
   "display_name": "Python 3 (ipykernel)",
   "language": "python",
   "name": "python3"
  },
  "language_info": {
   "codemirror_mode": {
    "name": "ipython",
    "version": 3
   },
   "file_extension": ".py",
   "mimetype": "text/x-python",
   "name": "python",
   "nbconvert_exporter": "python",
   "pygments_lexer": "ipython3",
   "version": "3.12.4"
  }
 },
 "nbformat": 4,
 "nbformat_minor": 5
}
